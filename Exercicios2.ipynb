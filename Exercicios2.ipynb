{
  "nbformat": 4,
  "nbformat_minor": 0,
  "metadata": {
    "colab": {
      "name": "Exercicios2.ipynb",
      "provenance": [],
      "authorship_tag": "ABX9TyPsBxxow6ozn9j0ixDxnW6u",
      "include_colab_link": true
    },
    "kernelspec": {
      "name": "python3",
      "display_name": "Python 3"
    }
  },
  "cells": [
    {
      "cell_type": "markdown",
      "metadata": {
        "id": "view-in-github",
        "colab_type": "text"
      },
      "source": [
        "<a href=\"https://colab.research.google.com/github/NicolauCotelesse/Hello_World/blob/main/Exercicios2.ipynb\" target=\"_parent\"><img src=\"https://colab.research.google.com/assets/colab-badge.svg\" alt=\"Open In Colab\"/></a>"
      ]
    },
    {
      "cell_type": "code",
      "metadata": {
        "id": "mRmb_h9slURX",
        "colab": {
          "base_uri": "https://localhost:8080/"
        },
        "outputId": "f2027fa5-729e-41f8-fdf0-58ed968ab183"
      },
      "source": [
        "\n",
        "#BMI\n",
        "\"\"\"\n",
        "  Under 18.5 They are underweight\n",
        "  Over 18.5 but bellow 25 They have a normal weight\n",
        "  Over 25 but bellow 30 They are overweight\n",
        "  Over 30 but bellow 35 They are obese\n",
        "  Above 35 They are clinically obese\n",
        "\"\"\"\n",
        "\n",
        "print (\"Let's calculate the BMI\")\n",
        "weight = float (input (\"Enter your weight in kg: \"))\n",
        "height = float (input (\"Enter your height in m: \"))\n",
        "\n",
        "BMI = weight/height**2\n",
        "BMI2 = round (BMI, 2)\n",
        "print (BMI2)\n",
        "\n",
        "if BMI2 < 18.5 :\n",
        "    print (\" You are underweight\")\n",
        "elif BMI2 <25:\n",
        "    print (\" You are in a normal weight\")\n",
        "elif BMI2 <30:\n",
        "    print (\" You are overweight\")\n",
        "elif BMI2 < 35:\n",
        "    print (\" You are obese\")\n",
        "else:\n",
        "    print (\" you are clinically obese\")"
      ],
      "execution_count": null,
      "outputs": [
        {
          "output_type": "stream",
          "text": [
            "Let's calculate the BMI\n",
            "Enter your weight in kg: 80\n",
            "Enter your height in m: 1.75\n",
            "26.12\n",
            " You are overweight\n"
          ],
          "name": "stdout"
        }
      ]
    },
    {
      "cell_type": "code",
      "metadata": {
        "colab": {
          "base_uri": "https://localhost:8080/"
        },
        "id": "TOYvtwjkUSJj",
        "outputId": "4c47ce43-e58b-43b7-a0ba-53e22b78a136"
      },
      "source": [
        "#Ano Bissexto.  \n",
        "\n",
        "ano = int (input (\"Digite um ano: \"))\n",
        "\n",
        "if ano % 4 != 0:\n",
        "  print (\"Não é bissexto\")\n",
        "else:\n",
        "  if ano % 100 !=0:\n",
        "    print (\"É um ano bissexto\")\n",
        "  else:\n",
        "    if ano % 400 == 0:\n",
        "      print (\"É um ano bissexto\")\n",
        "    else:\n",
        "      print (\"Não é bissexto\")\n",
        "\n"
      ],
      "execution_count": 7,
      "outputs": [
        {
          "output_type": "stream",
          "text": [
            "Digite um ano: 2024\n",
            "É um ano bissexto\n"
          ],
          "name": "stdout"
        }
      ]
    },
    {
      "cell_type": "code",
      "metadata": {
        "id": "ybT2vInbZ7Px",
        "colab": {
          "base_uri": "https://localhost:8080/"
        },
        "outputId": "fe294724-0344-45ea-8224-2443ec8844f6"
      },
      "source": [
        "#Ano Bissexto 02\n",
        "ano = int(input(\"Digite um ano: \"))\n",
        "\n",
        "if ano % 4 == 0:\n",
        "  if ano % 100 == 0:\n",
        "    if ano % 400 == 0:\n",
        "      print (\"É um ano bissexto\")\n",
        "    else:\n",
        "      print (\"Não é um ano bissexto\")\n",
        "  else:\n",
        "    print (\"É um ano bissexto\")  \n",
        "else:\n",
        "  print (\"Não é bissexto\")  \n"
      ],
      "execution_count": 12,
      "outputs": [
        {
          "output_type": "stream",
          "text": [
            "Digite um ano: 2024\n",
            "É um ano bissexto\n"
          ],
          "name": "stdout"
        }
      ]
    },
    {
      "cell_type": "code",
      "metadata": {
        "colab": {
          "base_uri": "https://localhost:8080/"
        },
        "id": "EhopFcu-w2bn",
        "outputId": "06f5428b-6fef-4f1c-ae08-25eefb899880"
      },
      "source": [
        "#Escolher a pizza\n",
        "\"\"\" Pizza Pequena = 15; Pizza Média = 20; Pizza Grande = 25\n",
        "    Pepperoni extra na Pizza Pequena +2;\n",
        "    Pepperoni extra na Pizza Média ou Grande +3;\n",
        "    Porção extra de queijo +1 (qualquer tamanho)\n",
        "    Escolher uma Grande, com Pepperoni , sem queijo extra:  total 28\n",
        "\"\"\"\n",
        "\n",
        "print (\"Bem vindo à Pizzaria XXX\")\n",
        "size = input (\"Digite o tamanho da sua pizza: P, M, G\")\n",
        "pepperoni_extra = input (\"Você deseja uma porção de pepperoni? S ou N\")\n",
        "queijo_extra = input (\"Você deseja uma porção extra de queijo? S ou N\")\n",
        "# esqueci de por price=0   mas, deu certo.\n",
        "if size == \"P\":\n",
        "  price = 15\n",
        "  if pepperoni_extra == \"S\":\n",
        "    price += 2\n",
        "elif size == \"M\":\n",
        "  price = 20\n",
        "else:   # elif size == \"G\":\n",
        "  price = 25\n",
        "  if pepperoni_extra == \"S\":\n",
        "    price += 3\n",
        "\n",
        "if queijo_extra == \"S\":\n",
        "  price2 = price + 1\n",
        "else:\n",
        "  price2 = price\n",
        "\n",
        "print (price2)\n",
        "\n",
        "\n"
      ],
      "execution_count": 17,
      "outputs": [
        {
          "output_type": "stream",
          "text": [
            "Bem vindo à Pizzaria XXX\n",
            "Digite o tamanho da sua pizza: P, M, GG\n",
            "Você deseja uma porção de pepperoni? S ou NS\n",
            "Você deseja uma porção extra de queijo? S ou NN\n",
            "28\n"
          ],
          "name": "stdout"
        }
      ]
    }
  ]
}