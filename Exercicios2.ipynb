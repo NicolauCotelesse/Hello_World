{
  "nbformat": 4,
  "nbformat_minor": 0,
  "metadata": {
    "colab": {
      "name": "Exercicios2.ipynb",
      "provenance": [],
      "authorship_tag": "ABX9TyNqQ5cK4Rct+emmEakTlKOd",
      "include_colab_link": true
    },
    "kernelspec": {
      "name": "python3",
      "display_name": "Python 3"
    }
  },
  "cells": [
    {
      "cell_type": "markdown",
      "metadata": {
        "id": "view-in-github",
        "colab_type": "text"
      },
      "source": [
        "<a href=\"https://colab.research.google.com/github/NicolauCotelesse/Hello_World/blob/main/Exercicios2.ipynb\" target=\"_parent\"><img src=\"https://colab.research.google.com/assets/colab-badge.svg\" alt=\"Open In Colab\"/></a>"
      ]
    },
    {
      "cell_type": "code",
      "metadata": {
        "id": "mRmb_h9slURX",
        "colab": {
          "base_uri": "https://localhost:8080/"
        },
        "outputId": "539a49fb-2455-43f7-a6f7-1dabe195fae0"
      },
      "source": [
        "\n",
        "#BMI\n",
        "\"\"\"\n",
        "  Under 18.5 They are underweight\n",
        "  Over 18.5 but bellow 25 They have a normal weight\n",
        "  Over 25 but bellow 30 They are overweight\n",
        "  Over 30 but bellow 35 They are obese\n",
        "  Above 35 They are clinically obese\n",
        "\"\"\"\n",
        "\n",
        "print (\"Let's calculate the BMI\")\n",
        "weight = float (input (\"Enter your weight in kg: \"))\n",
        "height = float (input (\"Enter your height in m: \"))\n",
        "\n",
        "BMI = weight/height**2\n",
        "BMI2 = round (BMI, 2)\n",
        "print (BMI2)\n",
        "\n",
        "if BMI2 < 18.5 :\n",
        "    print (\" You are underweight\")\n",
        "elif BMI2 <25:\n",
        "    print (\" You are in a normal weight\")\n",
        "elif BMI2 <30:\n",
        "    print (\" You are overweight\")\n",
        "elif BMI2 < 35:\n",
        "    print (\" You are obese\")\n",
        "else:\n",
        "    print (\" you are clinically obese\")"
      ],
      "execution_count": 2,
      "outputs": [
        {
          "output_type": "stream",
          "text": [
            "Let's calculate the BMI\n",
            "Enter your weight in kg: 80\n",
            "Enter your height in m: 1.75\n",
            "26.12\n",
            " You are overweight\n"
          ],
          "name": "stdout"
        }
      ]
    }
  ]
}