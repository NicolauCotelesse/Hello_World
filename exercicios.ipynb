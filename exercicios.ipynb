{
  "nbformat": 4,
  "nbformat_minor": 0,
  "metadata": {
    "colab": {
      "name": "exercicios.ipynb",
      "provenance": [],
      "authorship_tag": "ABX9TyNnAlfXXAV1VebnAYSJQswa",
      "include_colab_link": true
    },
    "kernelspec": {
      "name": "python3",
      "display_name": "Python 3"
    }
  },
  "cells": [
    {
      "cell_type": "markdown",
      "metadata": {
        "id": "view-in-github",
        "colab_type": "text"
      },
      "source": [
        "<a href=\"https://colab.research.google.com/github/NicolauCotelesse/Hello_World/blob/main/exercicios.ipynb\" target=\"_parent\"><img src=\"https://colab.research.google.com/assets/colab-badge.svg\" alt=\"Open In Colab\"/></a>"
      ]
    },
    {
      "cell_type": "code",
      "metadata": {
        "colab": {
          "base_uri": "https://localhost:8080/"
        },
        "id": "59JDxw2jDyHk",
        "outputId": "1670e3a0-39f4-4bb5-e2d9-951215780d83"
      },
      "source": [
        "# Fazer um programa que de como resultado a soma dos dois digitos digitados\n",
        "\n",
        "numero = input('Digite dois números: ')\n",
        "\n",
        "x = int(numero[0])\n",
        "y = int(numero[1])\n",
        "\n",
        "print (f' A soma dos números digitados é: {x+y} ')"
      ],
      "execution_count": null,
      "outputs": [
        {
          "output_type": "stream",
          "text": [
            "Digite dois números: 05\n",
            " A soma dos números digitados é: 5 \n"
          ],
          "name": "stdout"
        }
      ]
    },
    {
      "cell_type": "code",
      "metadata": {
        "id": "IHY-N2aUEq4E",
        "colab": {
          "base_uri": "https://localhost:8080/"
        },
        "outputId": "50a71a1e-a8c5-47c1-bfb7-4e99cc6e417c"
      },
      "source": [
        "# Calcular IMC a partir do peso e altura fornecidos\n",
        "peso = float(input('Digite o peso: '))\n",
        "altura = float(input('Digite a altura em metros: '))\n",
        "\n",
        "print (type(altura))\n",
        "print (type(peso))\n",
        "\n",
        "\n",
        "\n",
        "IMC = peso/(altura**2)\n",
        "print (IMC)"
      ],
      "execution_count": null,
      "outputs": [
        {
          "output_type": "stream",
          "text": [
            "Digite o peso: 80\n",
            "Digite a altura em metros: 1.75\n",
            "<class 'float'>\n",
            "<class 'float'>\n",
            "26.122448979591837\n"
          ],
          "name": "stdout"
        }
      ]
    },
    {
      "cell_type": "code",
      "metadata": {
        "colab": {
          "base_uri": "https://localhost:8080/"
        },
        "id": "FAFCUCjRNh6N",
        "outputId": "5d265a10-7465-44fb-99f5-d23d020561cd"
      },
      "source": [
        "# Considerar que uma pessoa viva 90 anos, e tenha 56 anos.  Calcule o tempo que lhe resta de vida em meses, semanas e dias. (12410 dias, 1768 semanas e 408 meses)\n",
        "\n",
        "idade = int (input (\"Digite sua idade: \"))\n",
        "\n",
        "meses = (90*12)-(idade*12)\n",
        "semanas = (90*52) - (idade *52)\n",
        "dias = (90*365) - (idade *365)\n",
        "\n",
        "print (f\"Você tem {dias} dias, {semanas} semanas, {meses} meses de vida\")"
      ],
      "execution_count": null,
      "outputs": [
        {
          "output_type": "stream",
          "text": [
            "Digite sua idade: 56\n",
            "Você tem 12410 dias, 1768 semanas, 408 meses de vida\n"
          ],
          "name": "stdout"
        }
      ]
    },
    {
      "cell_type": "code",
      "metadata": {
        "colab": {
          "base_uri": "https://localhost:8080/"
        },
        "id": "dWIGuwexweWS",
        "outputId": "3d9c3c31-4099-4c01-8c01-5a337a981abc"
      },
      "source": [
        "# outra forma\n",
        "\n",
        "idade = int (input(\"Digite sua idade: \"))\n",
        "\n",
        "anos_restante = 90 - idade\n",
        "\n",
        "meses = anos_restante*12\n",
        "semanas = anos_restante*52\n",
        "dias = anos_restante*365\n",
        "\n",
        "print (f\"Você tem {dias} dias, {semanas} semanas, {meses} meses de vida\")\n",
        "\n"
      ],
      "execution_count": null,
      "outputs": [
        {
          "output_type": "stream",
          "text": [
            "Digite sua idade: 56\n",
            "Você tem 12410 dias, 1768 semanas, 408 meses de vida\n"
          ],
          "name": "stdout"
        }
      ]
    },
    {
      "cell_type": "code",
      "metadata": {
        "colab": {
          "base_uri": "https://localhost:8080/"
        },
        "id": "vkjt8HCTyW6r",
        "outputId": "42ca1422-9afa-4ba1-e77e-9e7d11a829c6"
      },
      "source": [
        "#Bill Calculator\n",
        "\n",
        "print (\"Welcome to the tip calculator\")\n",
        "total_bill = float (input (\"What was the total bill? \"))\n",
        "tip = int (input (\"What percentage tip would you like to give? 10, 12 or 15?\"))\n",
        "people = int (input (\"How many people to split the bill? \"))\n",
        "\n",
        "total_bill_plus = total_bill*(100 + tip)/100\n",
        "per_person = round (total_bill_plus/people , 2)\n",
        "\n",
        "print (f\"Each person should pay: ${per_person}\")\n"
      ],
      "execution_count": null,
      "outputs": [
        {
          "output_type": "stream",
          "text": [
            "Welcome to the tip calculator\n",
            "What was the total bill? 124.56\n",
            "What percentage tip would you like to give? 10, 12 or 15?12\n",
            "How many people to split the bill? 7\n",
            "Each person should pay: $19.93\n"
          ],
          "name": "stdout"
        }
      ]
    },
    {
      "cell_type": "code",
      "metadata": {
        "colab": {
          "base_uri": "https://localhost:8080/"
        },
        "id": "js-ulNMRVfCx",
        "outputId": "56226f99-6895-49bd-9efe-681ec4a41737"
      },
      "source": [
        "#Odd or Even\n",
        "\n",
        "number = int (input(\"Which nunmber do you want to check? \"))\n",
        "\n",
        "if number % 2 == 0:\n",
        "  print (f' {number} is an even number')\n",
        "else:\n",
        "  print (f' {number} is an odd number')"
      ],
      "execution_count": 30,
      "outputs": [
        {
          "output_type": "stream",
          "text": [
            "Which nunmber do you want to check? 21\n",
            " 21 is an odd number\n"
          ],
          "name": "stdout"
        }
      ]
    }
  ]
}