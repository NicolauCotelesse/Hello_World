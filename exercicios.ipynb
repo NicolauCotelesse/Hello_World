{
  "nbformat": 4,
  "nbformat_minor": 0,
  "metadata": {
    "colab": {
      "name": "exercicios.ipynb",
      "provenance": [],
      "authorship_tag": "ABX9TyOlZvto99NeDevbDHLN+w0t",
      "include_colab_link": true
    },
    "kernelspec": {
      "name": "python3",
      "display_name": "Python 3"
    }
  },
  "cells": [
    {
      "cell_type": "markdown",
      "metadata": {
        "id": "view-in-github",
        "colab_type": "text"
      },
      "source": [
        "<a href=\"https://colab.research.google.com/github/NicolauCotelesse/Hello_World/blob/main/exercicios.ipynb\" target=\"_parent\"><img src=\"https://colab.research.google.com/assets/colab-badge.svg\" alt=\"Open In Colab\"/></a>"
      ]
    },
    {
      "cell_type": "code",
      "metadata": {
        "colab": {
          "base_uri": "https://localhost:8080/"
        },
        "id": "59JDxw2jDyHk",
        "outputId": "1670e3a0-39f4-4bb5-e2d9-951215780d83"
      },
      "source": [
        "# Fazer um programa que de como resultado a soma dos dois digitos digitados\n",
        "\n",
        "numero = input('Digite dois números: ')\n",
        "\n",
        "x = int(numero[0])\n",
        "y = int(numero[1])\n",
        "\n",
        "print (f' A soma dos números digitados é: {x+y} ')"
      ],
      "execution_count": null,
      "outputs": [
        {
          "output_type": "stream",
          "text": [
            "Digite dois números: 05\n",
            " A soma dos números digitados é: 5 \n"
          ],
          "name": "stdout"
        }
      ]
    },
    {
      "cell_type": "code",
      "metadata": {
        "id": "IHY-N2aUEq4E",
        "colab": {
          "base_uri": "https://localhost:8080/"
        },
        "outputId": "50a71a1e-a8c5-47c1-bfb7-4e99cc6e417c"
      },
      "source": [
        "# Calcular IMC a partir do peso e altura fornecidos\n",
        "peso = float(input('Digite o peso: '))\n",
        "altura = float(input('Digite a altura em metros: '))\n",
        "\n",
        "print (type(altura))\n",
        "print (type(peso))\n",
        "\n",
        "\n",
        "\n",
        "IMC = peso/(altura**2)\n",
        "print (IMC)"
      ],
      "execution_count": 11,
      "outputs": [
        {
          "output_type": "stream",
          "text": [
            "Digite o peso: 80\n",
            "Digite a altura em metros: 1.75\n",
            "<class 'float'>\n",
            "<class 'float'>\n",
            "26.122448979591837\n"
          ],
          "name": "stdout"
        }
      ]
    },
    {
      "cell_type": "code",
      "metadata": {
        "colab": {
          "base_uri": "https://localhost:8080/"
        },
        "id": "FAFCUCjRNh6N",
        "outputId": "5d265a10-7465-44fb-99f5-d23d020561cd"
      },
      "source": [
        "# Considerar que uma pessoa viva 90 anos, e tenha 56 anos.  Calcule o tempo que lhe resta de vida em meses, semanas e dias. (12410 dias, 1768 semanas e 408 meses)\n",
        "\n",
        "idade = int (input (\"Digite sua idade: \"))\n",
        "\n",
        "meses = (90*12)-(idade*12)\n",
        "semanas = (90*52) - (idade *52)\n",
        "dias = (90*365) - (idade *365)\n",
        "\n",
        "print (f\"Você tem {dias} dias, {semanas} semanas, {meses} meses de vida\")"
      ],
      "execution_count": 13,
      "outputs": [
        {
          "output_type": "stream",
          "text": [
            "Digite sua idade: 56\n",
            "Você tem 12410 dias, 1768 semanas, 408 meses de vida\n"
          ],
          "name": "stdout"
        }
      ]
    },
    {
      "cell_type": "code",
      "metadata": {
        "colab": {
          "base_uri": "https://localhost:8080/"
        },
        "id": "dWIGuwexweWS",
        "outputId": "3d9c3c31-4099-4c01-8c01-5a337a981abc"
      },
      "source": [
        "# outra forma\n",
        "\n",
        "idade = int (input(\"Digite sua idade: \"))\n",
        "\n",
        "anos_restante = 90 - idade\n",
        "\n",
        "meses = anos_restante*12\n",
        "semanas = anos_restante*52\n",
        "dias = anos_restante*365\n",
        "\n",
        "print (f\"Você tem {dias} dias, {semanas} semanas, {meses} meses de vida\")\n",
        "\n"
      ],
      "execution_count": 14,
      "outputs": [
        {
          "output_type": "stream",
          "text": [
            "Digite sua idade: 56\n",
            "Você tem 12410 dias, 1768 semanas, 408 meses de vida\n"
          ],
          "name": "stdout"
        }
      ]
    }
  ]
}