{
  "nbformat": 4,
  "nbformat_minor": 0,
  "metadata": {
    "colab": {
      "name": "TP3.ipynb",
      "provenance": [],
      "authorship_tag": "ABX9TyMzTRoQ0K0tpJaD52CzWUPf",
      "include_colab_link": true
    },
    "kernelspec": {
      "name": "python3",
      "display_name": "Python 3"
    }
  },
  "cells": [
    {
      "cell_type": "markdown",
      "metadata": {
        "id": "view-in-github",
        "colab_type": "text"
      },
      "source": [
        "<a href=\"https://colab.research.google.com/github/NicolauCotelesse/Hello_World/blob/main/TP3.ipynb\" target=\"_parent\"><img src=\"https://colab.research.google.com/assets/colab-badge.svg\" alt=\"Open In Colab\"/></a>"
      ]
    },
    {
      "cell_type": "code",
      "metadata": {
        "id": "-H1PtJqXLDks",
        "colab": {
          "base_uri": "https://localhost:8080/"
        },
        "outputId": "ad2f76a9-8a30-4b67-ccb5-d732b2759baa"
      },
      "source": [
        "# QUESTÃO 1\n",
        "\n",
        "valor_conta = float(input('Informe o valor da conta: '))\n",
        "if valor_conta <= 0:\n",
        "  print('Valor inválido \\n')\n",
        "  print('Fim do programa')\n",
        "else:\n",
        "  taxa = float(input('Informe o percentual de gorjeta: '))\n",
        "  if taxa < 0 or taxa > 100:\n",
        "    print('Valor inválido \\n')\n",
        "    print('Fim do programa')\n",
        "  else:\n",
        "\n",
        "    valor_final = valor_conta * (100 + taxa)/100\n",
        "\n",
        "    pessoas = int(input('Informe o número de pessoas da mesa: '))\n",
        "    if pessoas <=0:\n",
        "        print('Valor inválido \\n')\n",
        "        print('Fim do programa')\n",
        "    else:\n",
        "        valor_pessoa = valor_final/pessoas\n",
        "        print (f' O valor da conta é {valor_final} reais')\n",
        "        print (f'O valor por pessoa é {valor_pessoa} reais')\n",
        "\n",
        "\n",
        "\n",
        "\n",
        "\n",
        "  "
      ],
      "execution_count": null,
      "outputs": [
        {
          "output_type": "stream",
          "text": [
            "Informe o valor da conta: 120\n",
            "Informe o percentual de gorjeta: 20\n",
            "Informe o número de pessoas da mesa: 3\n",
            " O valor da conta é 144.0 reais\n",
            "O valor por pessoa é 48.0 reais\n"
          ],
          "name": "stdout"
        }
      ]
    },
    {
      "cell_type": "code",
      "metadata": {
        "colab": {
          "base_uri": "https://localhost:8080/"
        },
        "id": "-9iZguXKHBDb",
        "outputId": "71ac941b-7074-480f-cb55-725b1b5ebb51"
      },
      "source": [
        "# QUESTÃO 2\n",
        "\n",
        "idade = int (input('Digite sua idade: '))\n",
        "if idade >=18 and idade < 70:\n",
        "\tprint('Eleitor obrigatório')\n",
        "elif idade == 16 or idade == 17 or idade >= 70:\n",
        "\tprint ('Eleitor facultativo')\n",
        "elif idade < 16 and idade > 0 :\n",
        "\tprint ('Não tem direito a voto')\n",
        "else: \n",
        "\tprint ('valor inválido')"
      ],
      "execution_count": null,
      "outputs": [
        {
          "output_type": "stream",
          "text": [
            "Digite sua idade: 15\n",
            "Não tem direito a voto\n"
          ],
          "name": "stdout"
        }
      ]
    },
    {
      "cell_type": "code",
      "metadata": {
        "colab": {
          "base_uri": "https://localhost:8080/"
        },
        "id": "JL14XdkeHg9N",
        "outputId": "7753d755-5e55-419b-f957-3e329b1a02a8"
      },
      "source": [
        "# QUESTÃO 3\n",
        "\n",
        "lista_nomes = []\n",
        "lista_notas = []\n",
        "\n",
        "n = int(input('Informe o número de pessoas: '))\n",
        "for i in range(n):\n",
        "    nomes = input(f'Informe o nome: ')\n",
        "    notas = int(input(f'Informe a nota: '))\n",
        "\n",
        "    lista_nomes.append(nomes)\n",
        "    lista_notas.append(notas)\n",
        "\n",
        "print(lista_nomes)\n",
        "print(lista_notas)\n",
        "\n",
        "\n",
        "\n",
        "nota_mais_alta = (max(lista_notas))\n",
        "\n",
        "print (nota_mais_alta)\n",
        "\n",
        "i = lista_notas.index(nota_mais_alta)\n",
        "nome_nota_mais_alta = lista_nomes[i]\n",
        "\n",
        "print (f'A nota mais alta foi {nota_mais_alta} e foi tirada por {nome_nota_mais_alta}')"
      ],
      "execution_count": null,
      "outputs": [
        {
          "output_type": "stream",
          "text": [
            "Informe o número de pessoas: 4\n",
            "Informe o nome: Juliana\n",
            "Informe a nota: 10\n",
            "Informe o nome: Nicolau\n",
            "Informe a nota: 6\n",
            "Informe o nome: Nicolas\n",
            "Informe a nota: 6\n",
            "Informe o nome: Luisa\n",
            "Informe a nota: 8\n",
            "['Juliana', 'Nicolau', 'Nicolas', 'Luisa']\n",
            "[10, 6, 6, 8]\n",
            "10\n",
            "A nota mais alta foi 10 e foi tirada por Juliana\n"
          ],
          "name": "stdout"
        }
      ]
    },
    {
      "cell_type": "markdown",
      "metadata": {
        "id": "PLNPnoo9HAzB"
      },
      "source": [
        ""
      ]
    }
  ]
}